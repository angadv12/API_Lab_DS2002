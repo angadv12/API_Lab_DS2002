{
 "cells": [
  {
   "cell_type": "markdown",
   "id": "ffdc9c6e",
   "metadata": {
    "colab_type": "text",
    "id": "view-in-github"
   },
   "source": [
    "<a href=\"https://colab.research.google.com/github/fourfeatherz/DS2002F24/blob/main/Labs%5CUniversities_and_Stock_API_Workshop.ipynb\" target=\"_parent\"><img src=\"https://colab.research.google.com/assets/colab-badge.svg\" alt=\"Open In Colab\"/></a>"
   ]
  },
  {
   "cell_type": "markdown",
   "id": "YHwTFoDB04MH",
   "metadata": {
    "id": "YHwTFoDB04MH"
   },
   "source": [
    "# Using API Calls in Python with JSON and DataFrames - University Data Example\n",
    "In this notebook, we will make API requests to the Hipolabs Universities API, parse the JSON response, and convert it into Pandas DataFrames for analysis and visualization."
   ]
  },
  {
   "cell_type": "markdown",
   "id": "CDPNEdDF04MJ",
   "metadata": {
    "id": "CDPNEdDF04MJ"
   },
   "source": [
    "### Step 1: Making the API Call to Fetch University Data"
   ]
  },
  {
   "cell_type": "code",
   "execution_count": 1,
   "id": "pY6qqMVA04MJ",
   "metadata": {
    "id": "pY6qqMVA04MJ"
   },
   "outputs": [
    {
     "name": "stdout",
     "output_type": "stream",
     "text": [
      "API request successful!\n"
     ]
    }
   ],
   "source": [
    "import requests\n",
    "import json\n",
    "import pandas as pd\n",
    "\n",
    "# API endpoint for fetching universities\n",
    "url = \"http://universities.hipolabs.com/search?country=United%20States\"\n",
    "\n",
    "# Make the GET request\n",
    "response = requests.get(url)\n",
    "\n",
    "# Check the status code\n",
    "if response.status_code == 200:\n",
    "    print(\"API request successful!\")\n",
    "else:\n",
    "    print(f\"Failed to retrieve data: {response.status_code}\")"
   ]
  },
  {
   "cell_type": "markdown",
   "id": "N7564Ydt04MK",
   "metadata": {
    "id": "N7564Ydt04MK"
   },
   "source": [
    "### Step 2: Parsing the JSON Response"
   ]
  },
  {
   "cell_type": "code",
   "execution_count": 2,
   "id": "VnNhC0LN04MK",
   "metadata": {
    "id": "VnNhC0LN04MK"
   },
   "outputs": [
    {
     "name": "stdout",
     "output_type": "stream",
     "text": [
      "{\n",
      "  \"name\": \"Marywood University\",\n",
      "  \"alpha_two_code\": \"US\",\n",
      "  \"web_pages\": [\n",
      "    \"http://www.marywood.edu\"\n",
      "  ],\n",
      "  \"state-province\": null,\n",
      "  \"domains\": [\n",
      "    \"marywood.edu\"\n",
      "  ],\n",
      "  \"country\": \"United States\"\n",
      "}\n"
     ]
    }
   ],
   "source": [
    "# Parse the JSON response\n",
    "university_data = response.json()\n",
    "\n",
    "# Pretty-print the first university\n",
    "print(json.dumps(university_data[0], indent=2))"
   ]
  },
  {
   "cell_type": "markdown",
   "id": "LpvYuFhm04MK",
   "metadata": {
    "id": "LpvYuFhm04MK"
   },
   "source": [
    "### Step 3: Converting the JSON Data to a DataFrame"
   ]
  },
  {
   "cell_type": "code",
   "execution_count": 3,
   "id": "6TXNwd7L04MK",
   "metadata": {
    "id": "6TXNwd7L04MK"
   },
   "outputs": [
    {
     "name": "stdout",
     "output_type": "stream",
     "text": [
      "                                    name alpha_two_code  \\\n",
      "0                    Marywood University             US   \n",
      "1                  Lindenwood University             US   \n",
      "2                    Sullivan University             US   \n",
      "3  Florida State College at Jacksonville             US   \n",
      "4                      Xavier University             US   \n",
      "\n",
      "                      web_pages state-province           domains  \\\n",
      "0     [http://www.marywood.edu]           None    [marywood.edu]   \n",
      "1  [http://www.lindenwood.edu/]           None  [lindenwood.edu]   \n",
      "2       [https://sullivan.edu/]           None    [sullivan.edu]   \n",
      "3       [https://www.fscj.edu/]           None        [fscj.edu]   \n",
      "4     [https://www.xavier.edu/]           None      [xavier.edu]   \n",
      "\n",
      "         country  \n",
      "0  United States  \n",
      "1  United States  \n",
      "2  United States  \n",
      "3  United States  \n",
      "4  United States  \n"
     ]
    },
    {
     "data": {
      "text/html": [
       "<div>\n",
       "<style scoped>\n",
       "    .dataframe tbody tr th:only-of-type {\n",
       "        vertical-align: middle;\n",
       "    }\n",
       "\n",
       "    .dataframe tbody tr th {\n",
       "        vertical-align: top;\n",
       "    }\n",
       "\n",
       "    .dataframe thead th {\n",
       "        text-align: right;\n",
       "    }\n",
       "</style>\n",
       "<table border=\"1\" class=\"dataframe\">\n",
       "  <thead>\n",
       "    <tr style=\"text-align: right;\">\n",
       "      <th></th>\n",
       "      <th>name</th>\n",
       "      <th>alpha_two_code</th>\n",
       "      <th>web_pages</th>\n",
       "      <th>state-province</th>\n",
       "      <th>domains</th>\n",
       "      <th>country</th>\n",
       "    </tr>\n",
       "  </thead>\n",
       "  <tbody>\n",
       "    <tr>\n",
       "      <th>0</th>\n",
       "      <td>Marywood University</td>\n",
       "      <td>US</td>\n",
       "      <td>[http://www.marywood.edu]</td>\n",
       "      <td>None</td>\n",
       "      <td>[marywood.edu]</td>\n",
       "      <td>United States</td>\n",
       "    </tr>\n",
       "    <tr>\n",
       "      <th>1</th>\n",
       "      <td>Lindenwood University</td>\n",
       "      <td>US</td>\n",
       "      <td>[http://www.lindenwood.edu/]</td>\n",
       "      <td>None</td>\n",
       "      <td>[lindenwood.edu]</td>\n",
       "      <td>United States</td>\n",
       "    </tr>\n",
       "    <tr>\n",
       "      <th>2</th>\n",
       "      <td>Sullivan University</td>\n",
       "      <td>US</td>\n",
       "      <td>[https://sullivan.edu/]</td>\n",
       "      <td>None</td>\n",
       "      <td>[sullivan.edu]</td>\n",
       "      <td>United States</td>\n",
       "    </tr>\n",
       "    <tr>\n",
       "      <th>3</th>\n",
       "      <td>Florida State College at Jacksonville</td>\n",
       "      <td>US</td>\n",
       "      <td>[https://www.fscj.edu/]</td>\n",
       "      <td>None</td>\n",
       "      <td>[fscj.edu]</td>\n",
       "      <td>United States</td>\n",
       "    </tr>\n",
       "    <tr>\n",
       "      <th>4</th>\n",
       "      <td>Xavier University</td>\n",
       "      <td>US</td>\n",
       "      <td>[https://www.xavier.edu/]</td>\n",
       "      <td>None</td>\n",
       "      <td>[xavier.edu]</td>\n",
       "      <td>United States</td>\n",
       "    </tr>\n",
       "    <tr>\n",
       "      <th>...</th>\n",
       "      <td>...</td>\n",
       "      <td>...</td>\n",
       "      <td>...</td>\n",
       "      <td>...</td>\n",
       "      <td>...</td>\n",
       "      <td>...</td>\n",
       "    </tr>\n",
       "    <tr>\n",
       "      <th>2330</th>\n",
       "      <td>Western Nevada College</td>\n",
       "      <td>US</td>\n",
       "      <td>[https://wnc.edu/]</td>\n",
       "      <td>None</td>\n",
       "      <td>[wnc.edu]</td>\n",
       "      <td>United States</td>\n",
       "    </tr>\n",
       "    <tr>\n",
       "      <th>2331</th>\n",
       "      <td>Western University of Health Sciences</td>\n",
       "      <td>US</td>\n",
       "      <td>[https://www.westernu.edu/]</td>\n",
       "      <td>None</td>\n",
       "      <td>[westernu.edu]</td>\n",
       "      <td>United States</td>\n",
       "    </tr>\n",
       "    <tr>\n",
       "      <th>2332</th>\n",
       "      <td>St. Mary's University</td>\n",
       "      <td>US</td>\n",
       "      <td>[https://www.stmarytx.edu/]</td>\n",
       "      <td>Texas</td>\n",
       "      <td>[stmarytx.edu]</td>\n",
       "      <td>United States</td>\n",
       "    </tr>\n",
       "    <tr>\n",
       "      <th>2333</th>\n",
       "      <td>South Florida State College</td>\n",
       "      <td>US</td>\n",
       "      <td>[https://www.southflorida.edu/]</td>\n",
       "      <td>Florida</td>\n",
       "      <td>[southflorida.edu]</td>\n",
       "      <td>United States</td>\n",
       "    </tr>\n",
       "    <tr>\n",
       "      <th>2334</th>\n",
       "      <td>Alvernia University</td>\n",
       "      <td>US</td>\n",
       "      <td>[https://www.alvernia.edu/]</td>\n",
       "      <td>Pennsylvania</td>\n",
       "      <td>[alvernia.edu]</td>\n",
       "      <td>United States</td>\n",
       "    </tr>\n",
       "  </tbody>\n",
       "</table>\n",
       "<p>2335 rows × 6 columns</p>\n",
       "</div>"
      ],
      "text/plain": [
       "                                       name alpha_two_code  \\\n",
       "0                       Marywood University             US   \n",
       "1                     Lindenwood University             US   \n",
       "2                       Sullivan University             US   \n",
       "3     Florida State College at Jacksonville             US   \n",
       "4                         Xavier University             US   \n",
       "...                                     ...            ...   \n",
       "2330                 Western Nevada College             US   \n",
       "2331  Western University of Health Sciences             US   \n",
       "2332                  St. Mary's University             US   \n",
       "2333            South Florida State College             US   \n",
       "2334                    Alvernia University             US   \n",
       "\n",
       "                            web_pages state-province             domains  \\\n",
       "0           [http://www.marywood.edu]           None      [marywood.edu]   \n",
       "1        [http://www.lindenwood.edu/]           None    [lindenwood.edu]   \n",
       "2             [https://sullivan.edu/]           None      [sullivan.edu]   \n",
       "3             [https://www.fscj.edu/]           None          [fscj.edu]   \n",
       "4           [https://www.xavier.edu/]           None        [xavier.edu]   \n",
       "...                               ...            ...                 ...   \n",
       "2330               [https://wnc.edu/]           None           [wnc.edu]   \n",
       "2331      [https://www.westernu.edu/]           None      [westernu.edu]   \n",
       "2332      [https://www.stmarytx.edu/]          Texas      [stmarytx.edu]   \n",
       "2333  [https://www.southflorida.edu/]        Florida  [southflorida.edu]   \n",
       "2334      [https://www.alvernia.edu/]   Pennsylvania      [alvernia.edu]   \n",
       "\n",
       "            country  \n",
       "0     United States  \n",
       "1     United States  \n",
       "2     United States  \n",
       "3     United States  \n",
       "4     United States  \n",
       "...             ...  \n",
       "2330  United States  \n",
       "2331  United States  \n",
       "2332  United States  \n",
       "2333  United States  \n",
       "2334  United States  \n",
       "\n",
       "[2335 rows x 6 columns]"
      ]
     },
     "execution_count": 3,
     "metadata": {},
     "output_type": "execute_result"
    }
   ],
   "source": [
    "# Convert JSON data to a DataFrame\n",
    "df = pd.DataFrame(university_data)\n",
    "\n",
    "# Display the first few rows of the DataFrame\n",
    "print(df.head())\n",
    "df"
   ]
  },
  {
   "cell_type": "markdown",
   "id": "u_DHkVg004ML",
   "metadata": {
    "id": "u_DHkVg004ML"
   },
   "source": [
    "### Step 4: Basic Data Analysis"
   ]
  },
  {
   "cell_type": "code",
   "execution_count": 4,
   "id": "ovs5UIKs04ML",
   "metadata": {
    "id": "ovs5UIKs04ML"
   },
   "outputs": [
    {
     "name": "stdout",
     "output_type": "stream",
     "text": [
      "state-province\n",
      "Pennsylvania            32\n",
      "NY                       9\n",
      "California               5\n",
      "Texas                    5\n",
      "New York, NY             4\n",
      "New York                 3\n",
      "Florida                  3\n",
      "North Carolina           3\n",
      "Michigan                 3\n",
      "Ohio                     3\n",
      "Illinois                 2\n",
      "CA                       2\n",
      "Washington               2\n",
      "GA                       2\n",
      "TX                       2\n",
      "ND                       1\n",
      "Missouri                 1\n",
      "Maine                    1\n",
      "MA                       1\n",
      "Georgia                  1\n",
      "MI                       1\n",
      "New Hampshire            1\n",
      "Virginia                 1\n",
      "South Carolina           1\n",
      "IN                       1\n",
      "Colorado                 1\n",
      "Kansas                   1\n",
      "Indiana                  1\n",
      "VA                       1\n",
      "Iowa                     1\n",
      "NV                       1\n",
      "Utah                     1\n",
      "Salt Lake City, Utah     1\n",
      "Name: count, dtype: int64\n"
     ]
    }
   ],
   "source": [
    "# Count the number of universities by state\n",
    "state_counts = df['state-province'].value_counts()\n",
    "print(state_counts)"
   ]
  },
  {
   "cell_type": "markdown",
   "id": "cAPYEMN304ML",
   "metadata": {
    "id": "cAPYEMN304ML"
   },
   "source": [
    "### Step 5: Data Visualization"
   ]
  },
  {
   "cell_type": "code",
   "execution_count": 5,
   "id": "g7yUOl-804ML",
   "metadata": {
    "id": "g7yUOl-804ML"
   },
   "outputs": [
    {
     "data": {
      "image/png": "[encoded data removed]",
      "text/plain": [
       "<Figure size 1000x600 with 1 Axes>"
      ]
     },
     "metadata": {},
     "output_type": "display_data"
    }
   ],
   "source": [
    "import matplotlib.pyplot as plt\n",
    "\n",
    "# Plot the number of universities per state\n",
    "state_counts.plot(kind='bar', figsize=(10, 6))\n",
    "plt.title(\"Number of Universities per State\")\n",
    "plt.xlabel(\"State\")\n",
    "plt.ylabel(\"Number of Universities\")\n",
    "plt.show()"
   ]
  },
  {
   "cell_type": "markdown",
   "id": "WhSWvUWS04ML",
   "metadata": {
    "id": "WhSWvUWS04ML"
   },
   "source": [
    "### Step 6: Extending to Multiple Countries"
   ]
  },
  {
   "cell_type": "code",
   "execution_count": 6,
   "id": "ctTMYEJp04ML",
   "metadata": {
    "id": "ctTMYEJp04ML"
   },
   "outputs": [
    {
     "name": "stdout",
     "output_type": "stream",
     "text": [
      "                                    name alpha_two_code  \\\n",
      "0                    Marywood University             US   \n",
      "1                  Lindenwood University             US   \n",
      "2                    Sullivan University             US   \n",
      "3  Florida State College at Jacksonville             US   \n",
      "4                      Xavier University             US   \n",
      "\n",
      "                      web_pages state-province           domains  \\\n",
      "0     [http://www.marywood.edu]           None    [marywood.edu]   \n",
      "1  [http://www.lindenwood.edu/]           None  [lindenwood.edu]   \n",
      "2       [https://sullivan.edu/]           None    [sullivan.edu]   \n",
      "3       [https://www.fscj.edu/]           None        [fscj.edu]   \n",
      "4     [https://www.xavier.edu/]           None      [xavier.edu]   \n",
      "\n",
      "         country  \n",
      "0  United States  \n",
      "1  United States  \n",
      "2  United States  \n",
      "3  United States  \n",
      "4  United States  \n"
     ]
    }
   ],
   "source": [
    "countries = [\"United States\", \"Canada\", \"Australia\", \"United Kingdom\"]\n",
    "university_list = []\n",
    "\n",
    "for country in countries:\n",
    "    response = requests.get(f\"http://universities.hipolabs.com/search?country={country}\")\n",
    "    data = response.json()\n",
    "\n",
    "    for uni in data:\n",
    "        uni['country'] = country\n",
    "        university_list.append(uni)\n",
    "\n",
    "# Convert to DataFrame\n",
    "df_universities = pd.DataFrame(university_list)\n",
    "\n",
    "# Display the first few rows\n",
    "print(df_universities.head())"
   ]
  },
  {
   "cell_type": "markdown",
   "id": "PIgW1_1p04ML",
   "metadata": {
    "id": "PIgW1_1p04ML"
   },
   "source": [
    "### Step 7: Visualizing University Counts by Country"
   ]
  },
  {
   "cell_type": "code",
   "execution_count": 7,
   "id": "TLQPcYvY04ML",
   "metadata": {
    "id": "TLQPcYvY04ML"
   },
   "outputs": [
    {
     "data": {
      "image/png": "[encoded data removed]",
      "text/plain": [
       "<Figure size 1000x600 with 1 Axes>"
      ]
     },
     "metadata": {},
     "output_type": "display_data"
    }
   ],
   "source": [
    "# Count the number of universities per country\n",
    "country_counts = df_universities['country'].value_counts()\n",
    "\n",
    "# Plot the data\n",
    "country_counts.plot(kind='bar', figsize=(10, 6))\n",
    "plt.title(\"Number of Universities per Country\")\n",
    "plt.xlabel(\"Country\")\n",
    "plt.ylabel(\"Number of Universities\")\n",
    "plt.show()"
   ]
  },
  {
   "cell_type": "markdown",
   "id": "b-dBnRNT1MQF",
   "metadata": {
    "id": "b-dBnRNT1MQF"
   },
   "source": [
    "###Step 8: Customizing the Workshop\n",
    "\n",
    "You can experiment further by:\n",
    "\n",
    "\n",
    "\n",
    "*   Fetching data for specific regions.\n",
    "*   Analyzing other attributes such as university domains.\n",
    "*   Creating visualizations to compare universities in different regions.\n",
    "\n"
   ]
  },
  {
   "cell_type": "markdown",
   "id": "iwD_LJNy2L7u",
   "metadata": {
    "id": "iwD_LJNy2L7u"
   },
   "source": [
    "For the followig you will need to get your API key from  https://financeapi.net/\n",
    "Examine the demo page and sample data to be returned"
   ]
  },
  {
   "cell_type": "code",
   "execution_count": 8,
   "id": "80xOdsHQ2SzU",
   "metadata": {
    "id": "80xOdsHQ2SzU"
   },
   "outputs": [
    {
     "data": {
      "text/plain": [
       "True"
      ]
     },
     "execution_count": 8,
     "metadata": {},
     "output_type": "execute_result"
    }
   ],
   "source": [
    "import json\n",
    "import pandas as pd\n",
    "import json\n",
    "import requests\n",
    "\n",
    "\n",
    "import os\n",
    "from dotenv import load_dotenv\n",
    "load_dotenv()"
   ]
  },
  {
   "cell_type": "code",
   "execution_count": 9,
   "id": "qdoW9lbM2Wes",
   "metadata": {
    "id": "qdoW9lbM2Wes"
   },
   "outputs": [
    {
     "name": "stdin",
     "output_type": "stream",
     "text": [
      "Which stock would you like to research? (Enter the symbol; Ex. AAPL for Apple) AAPL\n"
     ]
    }
   ],
   "source": [
    "#get stock from the user\n",
    "stock=input(\"Which stock would you like to research? (Enter the symbol; Ex. AAPL for Apple)\")"
   ]
  },
  {
   "cell_type": "code",
   "execution_count": 10,
   "id": "Jb5ddkbl2YWF",
   "metadata": {
    "id": "Jb5ddkbl2YWF"
   },
   "outputs": [
    {
     "name": "stdout",
     "output_type": "stream",
     "text": [
      "The Stock we will research is:AAPL\n"
     ]
    }
   ],
   "source": [
    "print(\"The Stock we will research is:\" + stock)"
   ]
  },
  {
   "cell_type": "code",
   "execution_count": 11,
   "id": "pFKgjZlO2atU",
   "metadata": {
    "id": "pFKgjZlO2atU"
   },
   "outputs": [
    {
     "name": "stdout",
     "output_type": "stream",
     "text": [
      "{\"quoteResponse\":{\"result\":[{\"language\":\"en-US\",\"region\":\"US\",\"quoteType\":\"EQUITY\",\"typeDisp\":\"Equity\",\"quoteSourceName\":\"Nasdaq Real Time Price\",\"triggerable\":true,\"customPriceAlertConfidence\":\"HIGH\",\"currency\":\"USD\",\"exchange\":\"NMS\",\"shortName\":\"Apple Inc.\",\"longName\":\"Apple Inc.\",\"messageBoardId\":\"finmb_24937\",\"exchangeTimezoneName\":\"America/New_York\",\"exchangeTimezoneShortName\":\"EDT\",\"gmtOffSetMilliseconds\":-14400000,\"market\":\"us_market\",\"esgPopulated\":false,\"regularMarketChangePercent\":0.6297854,\"regularMarketPrice\":236.48,\"hasPrePostMarketData\":true,\"firstTradeDateMilliseconds\":345479400000,\"priceHint\":2,\"postMarketChangePercent\":0.0190283,\"postMarketTime\":1729555194,\"postMarketPrice\":236.525,\"postMarketChange\":0.0449982,\"regularMarketChange\":1.4799957,\"regularMarketTime\":1729540801,\"regularMarketDayHigh\":236.85,\"regularMarketDayRange\":\"234.45 - 236.85\",\"regularMarketDayLow\":234.45,\"regularMarketVolume\":35059099,\"regularMarketPreviousClose\":235.0,\"bid\":0.0,\"ask\":0.0,\"bidSize\":0,\"askSize\":0,\"fullExchangeName\":\"NasdaqGS\",\"financialCurrency\":\"USD\",\"regularMarketOpen\":234.45,\"averageDailyVolume3Month\":51003531,\"averageDailyVolume10Day\":37973610,\"fiftyTwoWeekLowChange\":72.399994,\"fiftyTwoWeekLowChangePercent\":0.44124812,\"fiftyTwoWeekRange\":\"164.08 - 237.49\",\"fiftyTwoWeekHighChange\":-1.0100098,\"fiftyTwoWeekHighChangePercent\":-0.0042528515,\"fiftyTwoWeekLow\":164.08,\"fiftyTwoWeekHigh\":237.49,\"fiftyTwoWeekChangePercent\":36.346863,\"dividendDate\":1723680000,\"earningsTimestamp\":1730404800,\"earningsTimestampStart\":1730404800,\"earningsTimestampEnd\":1730404800,\"earningsCallTimestampStart\":1730408400,\"earningsCallTimestampEnd\":1730408400,\"isEarningsDateEstimate\":false,\"trailingAnnualDividendRate\":0.97,\"trailingPE\":35.99391,\"dividendRate\":1.0,\"trailingAnnualDividendYield\":0.00412766,\"dividendYield\":0.42,\"marketState\":\"PREPRE\",\"epsTrailingTwelveMonths\":6.57,\"epsForward\":7.48,\"epsCurrentYear\":6.67,\"priceEpsCurrentYear\":35.454273,\"sharesOutstanding\":15204100096,\"bookValue\":4.382,\"fiftyDayAverage\":225.9344,\"fiftyDayAverageChange\":10.545593,\"fiftyDayAverageChangePercent\":0.046675466,\"twoHundredDayAverage\":200.1021,\"twoHundredDayAverageChange\":36.3779,\"twoHundredDayAverageChangePercent\":0.18179668,\"marketCap\":3595465654272,\"forwardPE\":31.614973,\"priceToBook\":53.966225,\"sourceInterval\":15,\"exchangeDataDelayedBy\":0,\"averageAnalystRating\":\"2.1 - Buy\",\"tradeable\":false,\"cryptoTradeable\":false,\"displayName\":\"Apple\",\"symbol\":\"AAPL\"}],\"error\":null}}\n"
     ]
    }
   ],
   "source": [
    "apikey=os.getenv(\"API_KEY\")\n",
    "\n",
    "url = \"https://yfapi.net/v6/finance/quote\"\n",
    "\n",
    "querystring = {\"symbols\":stock}\n",
    "\n",
    "headers = {\n",
    "    'x-api-key': apikey\n",
    "    }\n",
    "\n",
    "response = requests.request(\"GET\", url, headers=headers, params=querystring)\n",
    "\n",
    "print(response.text)"
   ]
  },
  {
   "cell_type": "code",
   "execution_count": 12,
   "id": "SVJqBY7y2eSs",
   "metadata": {
    "id": "SVJqBY7y2eSs"
   },
   "outputs": [
    {
     "name": "stdout",
     "output_type": "stream",
     "text": [
      "Apple Inc. Price: $236.48\n"
     ]
    }
   ],
   "source": [
    "#print the company name and price\n",
    "stock_json = response.json()\n",
    "print(stock_json['quoteResponse']['result'][0][\"longName\"] + \" Price: $\" + str(stock_json['quoteResponse']['result'][0][\"regularMarketPrice\"]))"
   ]
  },
  {
   "cell_type": "markdown",
   "id": "9sqZZPI12leh",
   "metadata": {
    "id": "9sqZZPI12leh"
   },
   "source": [
    "Ask the user for a list of stocks and pass that answer back to the user\n"
   ]
  },
  {
   "cell_type": "code",
   "execution_count": 35,
   "id": "653d937b-d171-4031-a41a-17c812cd3135",
   "metadata": {},
   "outputs": [
    {
     "name": "stdin",
     "output_type": "stream",
     "text": [
      "Give a list of stocks you would like to research (Enter the symbols, separated by comma (no spaces)):  AAPL,GOOG,AMZN\n"
     ]
    },
    {
     "name": "stdout",
     "output_type": "stream",
     "text": [
      "Apple Inc. Price: $236.48\n",
      "Alphabet Inc. Price: $165.8\n",
      "Amazon.com, Inc. Price: $189.07\n"
     ]
    }
   ],
   "source": [
    "stocks = input(\"Give a list of stocks you would like to research (Enter the symbols, separated by comma (no spaces)): \").upper()\n",
    "\n",
    "apikey=os.getenv(\"API_KEY\")\n",
    "\n",
    "url = \"https://yfapi.net/v6/finance/quote\"\n",
    "\n",
    "querystring = {\"symbols\":stocks}\n",
    "# print(querystring)\n",
    "\n",
    "headers = {\n",
    "    'x-api-key': apikey\n",
    "    }\n",
    "\n",
    "response = requests.request(\"GET\", url, headers=headers, params=querystring)\n",
    "json_stocks = response.json()\n",
    "# print(response.text)\n",
    "\n",
    "# for stocks = input(\"Give a list of stocks you would like to research (Enter the symbols, separated by comma (no spaces)): \")\n",
    "\n",
    "apikey=os.getenv(\"API_KEY\")\n",
    "\n",
    "url = \"https://yfapi.net/v6/finance/quote\"\n",
    "\n",
    "querystring = {\"symbols\":stocks}\n",
    "# print(querystring)\n",
    "\n",
    "headers = {\n",
    "    'x-api-key': apikey\n",
    "    }\n",
    "\n",
    "response = requests.request(\"GET\", url, headers=headers, params=querystring)\n",
    "json_stocks = response.json()\n",
    "\n",
    "for i in range(len(json_stocks['quoteResponse']['result'])):\n",
    "    print(json_stocks['quoteResponse']['result'][i][\"longName\"] + \" Price: $\" + str(json_stocks['quoteResponse']['result'][i][\"regularMarketPrice\"]))"
   ]
  },
  {
   "cell_type": "code",
   "execution_count": null,
   "id": "9422ba83-0fef-4e21-b0a4-ef8675b128c6",
   "metadata": {},
   "outputs": [],
   "source": []
  }
 ],
 "metadata": {
  "colab": {
   "include_colab_link": true,
   "provenance": []
  },
  "kernelspec": {
   "display_name": "Python 3 (ipykernel)",
   "language": "python",
   "name": "python3"
  },
  "language_info": {
   "codemirror_mode": {
    "name": "ipython",
    "version": 3
   },
   "file_extension": ".py",
   "mimetype": "text/x-python",
   "name": "python",
   "nbconvert_exporter": "python",
   "pygments_lexer": "ipython3",
   "version": "3.12.4"
  }
 },
 "nbformat": 4,
 "nbformat_minor": 5
}
